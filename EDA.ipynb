{
 "cells": [
  {
   "cell_type": "code",
   "execution_count": 3,
   "id": "1943c63f",
   "metadata": {},
   "outputs": [],
   "source": [
    "import pandas as pd\n",
    "import matplotlib.pyplot as plt\n",
    "import seaborn as sns"
   ]
  },
  {
   "cell_type": "code",
   "execution_count": 4,
   "id": "7389ea4f",
   "metadata": {},
   "outputs": [
    {
     "name": "stderr",
     "output_type": "stream",
     "text": [
      "/var/folders/_x/zjy2t0_91j3fcrwwh4976v6c0000gn/T/ipykernel_82930/762088741.py:1: DtypeWarning: Columns (9,10,30,32,33,34,35,36) have mixed types. Specify dtype option on import or set low_memory=False.\n",
      "  google = pd.read_csv('data.csv') #google reviews data\n"
     ]
    }
   ],
   "source": [
    "google = pd.read_csv('data.csv') #google reviews data\n",
    "tripadvisor = pd.read_csv('tripadvisordata.csv') #tripadvisor data"
   ]
  },
  {
   "cell_type": "code",
   "execution_count": 5,
   "id": "dbc4bf56",
   "metadata": {},
   "outputs": [
    {
     "data": {
      "text/html": [
       "<div>\n",
       "<style scoped>\n",
       "    .dataframe tbody tr th:only-of-type {\n",
       "        vertical-align: middle;\n",
       "    }\n",
       "\n",
       "    .dataframe tbody tr th {\n",
       "        vertical-align: top;\n",
       "    }\n",
       "\n",
       "    .dataframe thead th {\n",
       "        text-align: right;\n",
       "    }\n",
       "</style>\n",
       "<table border=\"1\" class=\"dataframe\">\n",
       "  <thead>\n",
       "    <tr style=\"text-align: right;\">\n",
       "      <th></th>\n",
       "      <th>address</th>\n",
       "      <th>categories/0</th>\n",
       "      <th>categories/1</th>\n",
       "      <th>categories/2</th>\n",
       "      <th>categories/3</th>\n",
       "      <th>categories/4</th>\n",
       "      <th>categories/5</th>\n",
       "      <th>categories/6</th>\n",
       "      <th>categories/7</th>\n",
       "      <th>categories/8</th>\n",
       "      <th>...</th>\n",
       "      <th>stars</th>\n",
       "      <th>state</th>\n",
       "      <th>street</th>\n",
       "      <th>subTitle</th>\n",
       "      <th>temporarilyClosed</th>\n",
       "      <th>text</th>\n",
       "      <th>title</th>\n",
       "      <th>totalScore</th>\n",
       "      <th>url</th>\n",
       "      <th>website</th>\n",
       "    </tr>\n",
       "  </thead>\n",
       "  <tbody>\n",
       "    <tr>\n",
       "      <th>0</th>\n",
       "      <td>42 Crawford St, London W1H 1JW, United Kingdom</td>\n",
       "      <td>Tapas restaurant</td>\n",
       "      <td>Italian restaurant</td>\n",
       "      <td>Spanish restaurant</td>\n",
       "      <td>NaN</td>\n",
       "      <td>NaN</td>\n",
       "      <td>NaN</td>\n",
       "      <td>NaN</td>\n",
       "      <td>NaN</td>\n",
       "      <td>NaN</td>\n",
       "      <td>...</td>\n",
       "      <td>5</td>\n",
       "      <td>NaN</td>\n",
       "      <td>42 Crawford St</td>\n",
       "      <td>NaN</td>\n",
       "      <td>False</td>\n",
       "      <td>We came here for a dinner on Friday evening. T...</td>\n",
       "      <td>Twist Connubio</td>\n",
       "      <td>4.6</td>\n",
       "      <td>https://www.google.com/maps/place/Twist+Connub...</td>\n",
       "      <td>http://www.twistconnubio.com/</td>\n",
       "    </tr>\n",
       "  </tbody>\n",
       "</table>\n",
       "<p>1 rows × 74 columns</p>\n",
       "</div>"
      ],
      "text/plain": [
       "                                          address      categories/0  \\\n",
       "0  42 Crawford St, London W1H 1JW, United Kingdom  Tapas restaurant   \n",
       "\n",
       "         categories/1        categories/2 categories/3 categories/4  \\\n",
       "0  Italian restaurant  Spanish restaurant          NaN          NaN   \n",
       "\n",
       "  categories/5 categories/6 categories/7 categories/8  ... stars state  \\\n",
       "0          NaN          NaN          NaN          NaN  ...     5   NaN   \n",
       "\n",
       "           street subTitle  temporarilyClosed  \\\n",
       "0  42 Crawford St      NaN              False   \n",
       "\n",
       "                                                text           title  \\\n",
       "0  We came here for a dinner on Friday evening. T...  Twist Connubio   \n",
       "\n",
       "   totalScore                                                url  \\\n",
       "0         4.6  https://www.google.com/maps/place/Twist+Connub...   \n",
       "\n",
       "                         website  \n",
       "0  http://www.twistconnubio.com/  \n",
       "\n",
       "[1 rows x 74 columns]"
      ]
     },
     "execution_count": 5,
     "metadata": {},
     "output_type": "execute_result"
    }
   ],
   "source": [
    "google.head(1)"
   ]
  },
  {
   "cell_type": "code",
   "execution_count": 6,
   "id": "c4fb51fc",
   "metadata": {},
   "outputs": [
    {
     "data": {
      "text/html": [
       "<div>\n",
       "<style scoped>\n",
       "    .dataframe tbody tr th:only-of-type {\n",
       "        vertical-align: middle;\n",
       "    }\n",
       "\n",
       "    .dataframe tbody tr th {\n",
       "        vertical-align: top;\n",
       "    }\n",
       "\n",
       "    .dataframe thead th {\n",
       "        text-align: right;\n",
       "    }\n",
       "</style>\n",
       "<table border=\"1\" class=\"dataframe\">\n",
       "  <thead>\n",
       "    <tr style=\"text-align: right;\">\n",
       "      <th></th>\n",
       "      <th>Unnamed: 0</th>\n",
       "      <th>title</th>\n",
       "      <th>text</th>\n",
       "      <th>review date</th>\n",
       "      <th>rating</th>\n",
       "      <th>restaurant</th>\n",
       "      <th>location</th>\n",
       "      <th>total reviews</th>\n",
       "      <th>price</th>\n",
       "      <th>1-star</th>\n",
       "      <th>...</th>\n",
       "      <th>South Asian</th>\n",
       "      <th>South East Asian</th>\n",
       "      <th>American</th>\n",
       "      <th>Middle Eastern</th>\n",
       "      <th>Mediterranean</th>\n",
       "      <th>FrenchEuropean</th>\n",
       "      <th>BritishIrish</th>\n",
       "      <th>Latin American</th>\n",
       "      <th>Bar</th>\n",
       "      <th>African</th>\n",
       "    </tr>\n",
       "  </thead>\n",
       "  <tbody>\n",
       "    <tr>\n",
       "      <th>0</th>\n",
       "      <td>0</td>\n",
       "      <td>Hidden gem</td>\n",
       "      <td>We visited for date night after reading lots o...</td>\n",
       "      <td>18 January 2023</td>\n",
       "      <td>5.0</td>\n",
       "      <td>Bonoo Indian Tapas</td>\n",
       "      <td>675 Finchley Road, London NW2 2JP England</td>\n",
       "      <td>2022</td>\n",
       "      <td>££ - £££</td>\n",
       "      <td>11</td>\n",
       "      <td>...</td>\n",
       "      <td>True</td>\n",
       "      <td>False</td>\n",
       "      <td>False</td>\n",
       "      <td>False</td>\n",
       "      <td>False</td>\n",
       "      <td>False</td>\n",
       "      <td>False</td>\n",
       "      <td>False</td>\n",
       "      <td>True</td>\n",
       "      <td>False</td>\n",
       "    </tr>\n",
       "  </tbody>\n",
       "</table>\n",
       "<p>1 rows × 29 columns</p>\n",
       "</div>"
      ],
      "text/plain": [
       "   Unnamed: 0       title                                               text  \\\n",
       "0           0  Hidden gem  We visited for date night after reading lots o...   \n",
       "\n",
       "       review date  rating          restaurant  \\\n",
       "0  18 January 2023     5.0  Bonoo Indian Tapas   \n",
       "\n",
       "                                    location  total reviews     price  1-star  \\\n",
       "0  675 Finchley Road, London NW2 2JP England           2022  ££ - £££      11   \n",
       "\n",
       "   ...  South Asian  South East Asian  American  Middle Eastern  \\\n",
       "0  ...         True             False     False           False   \n",
       "\n",
       "   Mediterranean FrenchEuropean  BritishIrish  Latin American   Bar  African  \n",
       "0          False          False         False           False  True    False  \n",
       "\n",
       "[1 rows x 29 columns]"
      ]
     },
     "execution_count": 6,
     "metadata": {},
     "output_type": "execute_result"
    }
   ],
   "source": [
    "tripadvisor.head(1)"
   ]
  },
  {
   "cell_type": "markdown",
   "id": "01d92ce6",
   "metadata": {},
   "source": [
    "## Google reviews prep"
   ]
  },
  {
   "cell_type": "code",
   "execution_count": 7,
   "id": "08c6c286",
   "metadata": {},
   "outputs": [
    {
     "data": {
      "text/plain": [
       "price              15.781863\n",
       "text                4.492873\n",
       "title               0.000000\n",
       "publishedAtDate     0.000000\n",
       "totalScore          0.000000\n",
       "stars               0.000000\n",
       "dtype: float64"
      ]
     },
     "execution_count": 7,
     "metadata": {},
     "output_type": "execute_result"
    }
   ],
   "source": [
    "#Prep for merge: narrowing down the columns and changing the column names for both datasets \n",
    "\n",
    "#Google: \n",
    "column_names = ['title', 'price', 'publishedAtDate', 'totalScore', 'stars', 'text']\n",
    "\n",
    "df_google = google[column_names]\n",
    "\n",
    "#Check missing percentage\n",
    "df_google.isna().sum().sort_values(ascending=False)/len(df_google)*100 "
   ]
  },
  {
   "cell_type": "code",
   "execution_count": 8,
   "id": "79d92e0e",
   "metadata": {},
   "outputs": [
    {
     "data": {
      "text/plain": [
       "27741"
      ]
     },
     "execution_count": 8,
     "metadata": {},
     "output_type": "execute_result"
    }
   ],
   "source": [
    "df_google['text'].count()"
   ]
  },
  {
   "cell_type": "code",
   "execution_count": 9,
   "id": "d2d610a4",
   "metadata": {},
   "outputs": [
    {
     "data": {
      "text/plain": [
       "27741"
      ]
     },
     "execution_count": 9,
     "metadata": {},
     "output_type": "execute_result"
    }
   ],
   "source": [
    "google.text.count()"
   ]
  },
  {
   "cell_type": "code",
   "execution_count": 10,
   "id": "d4fe6cef",
   "metadata": {},
   "outputs": [
    {
     "data": {
      "text/plain": [
       "price              4584\n",
       "text               1305\n",
       "title                 0\n",
       "publishedAtDate       0\n",
       "totalScore            0\n",
       "stars                 0\n",
       "dtype: int64"
      ]
     },
     "execution_count": 10,
     "metadata": {},
     "output_type": "execute_result"
    }
   ],
   "source": [
    "df_google.isna().sum().sort_values(ascending=False)"
   ]
  },
  {
   "cell_type": "code",
   "execution_count": 11,
   "id": "ed55c99a",
   "metadata": {},
   "outputs": [
    {
     "data": {
      "text/plain": [
       "price              14.491186\n",
       "title               0.000000\n",
       "publishedAtDate     0.000000\n",
       "totalScore          0.000000\n",
       "stars               0.000000\n",
       "text                0.000000\n",
       "dtype: float64"
      ]
     },
     "execution_count": 11,
     "metadata": {},
     "output_type": "execute_result"
    }
   ],
   "source": [
    "#4.5% of text are missing so we drop those\n",
    "df_google = df_google[df_google['text'].notna()]\n",
    "df_google.isna().sum().sort_values(ascending=False)/len(df_google)*100 "
   ]
  },
  {
   "cell_type": "code",
   "execution_count": 12,
   "id": "94e53cb0",
   "metadata": {},
   "outputs": [
    {
     "data": {
      "text/plain": [
       "23"
      ]
     },
     "execution_count": 12,
     "metadata": {},
     "output_type": "execute_result"
    }
   ],
   "source": [
    "len(df_google.title[df_google['price'].isna()].unique()) #23 of the restaurants have no price category.\n",
    "#Their reviews take up 14.49% of the data, therefore we will not take price into account in our model."
   ]
  },
  {
   "cell_type": "code",
   "execution_count": 13,
   "id": "b493d06e",
   "metadata": {},
   "outputs": [],
   "source": [
    "df_google.rename({'title': 'restaurant', 'publishedAtDate': 'review_date', 'totalScore': 'total_score'}, axis=1, inplace=True)"
   ]
  },
  {
   "cell_type": "code",
   "execution_count": 14,
   "id": "4dee2a25",
   "metadata": {},
   "outputs": [
    {
     "data": {
      "text/plain": [
       "dtype('<M8[ns]')"
      ]
     },
     "execution_count": 14,
     "metadata": {},
     "output_type": "execute_result"
    }
   ],
   "source": [
    "#Changing date format for future plot\n",
    "df_google['review_date'] = pd.to_datetime(df_google['review_date'])\n",
    "df_google['review_date'] = pd.to_datetime(df_google['review_date'].dt.strftime('%Y-%m-%d'))\n",
    "df_google['review_date'].dtypes"
   ]
  },
  {
   "cell_type": "code",
   "execution_count": 15,
   "id": "ff9106b8",
   "metadata": {},
   "outputs": [
    {
     "data": {
      "text/html": [
       "<div>\n",
       "<style scoped>\n",
       "    .dataframe tbody tr th:only-of-type {\n",
       "        vertical-align: middle;\n",
       "    }\n",
       "\n",
       "    .dataframe tbody tr th {\n",
       "        vertical-align: top;\n",
       "    }\n",
       "\n",
       "    .dataframe thead th {\n",
       "        text-align: right;\n",
       "    }\n",
       "</style>\n",
       "<table border=\"1\" class=\"dataframe\">\n",
       "  <thead>\n",
       "    <tr style=\"text-align: right;\">\n",
       "      <th></th>\n",
       "      <th>restaurant</th>\n",
       "      <th>price</th>\n",
       "      <th>review_date</th>\n",
       "      <th>total_score</th>\n",
       "      <th>stars</th>\n",
       "      <th>text</th>\n",
       "    </tr>\n",
       "  </thead>\n",
       "  <tbody>\n",
       "    <tr>\n",
       "      <th>0</th>\n",
       "      <td>Twist Connubio</td>\n",
       "      <td>$$$</td>\n",
       "      <td>2022-03-26</td>\n",
       "      <td>4.6</td>\n",
       "      <td>5</td>\n",
       "      <td>We came here for a dinner on Friday evening. T...</td>\n",
       "    </tr>\n",
       "    <tr>\n",
       "      <th>1</th>\n",
       "      <td>Twist Connubio</td>\n",
       "      <td>$$$</td>\n",
       "      <td>2021-11-28</td>\n",
       "      <td>4.6</td>\n",
       "      <td>5</td>\n",
       "      <td>This meal is perhaps one of the best, if not t...</td>\n",
       "    </tr>\n",
       "    <tr>\n",
       "      <th>2</th>\n",
       "      <td>Twist Connubio</td>\n",
       "      <td>$$$</td>\n",
       "      <td>2022-07-09</td>\n",
       "      <td>4.6</td>\n",
       "      <td>5</td>\n",
       "      <td>Delicious tapas-style Italo-Spanish restaurant...</td>\n",
       "    </tr>\n",
       "    <tr>\n",
       "      <th>3</th>\n",
       "      <td>Twist Connubio</td>\n",
       "      <td>$$$</td>\n",
       "      <td>2021-10-15</td>\n",
       "      <td>4.6</td>\n",
       "      <td>4</td>\n",
       "      <td>Lovely tapas and the tasting menu have great o...</td>\n",
       "    </tr>\n",
       "    <tr>\n",
       "      <th>4</th>\n",
       "      <td>Twist Connubio</td>\n",
       "      <td>$$$</td>\n",
       "      <td>2022-03-29</td>\n",
       "      <td>4.6</td>\n",
       "      <td>5</td>\n",
       "      <td>The service was top notch, the food was delici...</td>\n",
       "    </tr>\n",
       "    <tr>\n",
       "      <th>...</th>\n",
       "      <td>...</td>\n",
       "      <td>...</td>\n",
       "      <td>...</td>\n",
       "      <td>...</td>\n",
       "      <td>...</td>\n",
       "      <td>...</td>\n",
       "    </tr>\n",
       "    <tr>\n",
       "      <th>29041</th>\n",
       "      <td>Brawn</td>\n",
       "      <td>€€</td>\n",
       "      <td>2018-07-01</td>\n",
       "      <td>4.7</td>\n",
       "      <td>5</td>\n",
       "      <td>The food here is truly fantastic. The service ...</td>\n",
       "    </tr>\n",
       "    <tr>\n",
       "      <th>29042</th>\n",
       "      <td>Brawn</td>\n",
       "      <td>€€</td>\n",
       "      <td>2019-11-23</td>\n",
       "      <td>4.7</td>\n",
       "      <td>4</td>\n",
       "      <td>Very nice and convivial place. Went with my be...</td>\n",
       "    </tr>\n",
       "    <tr>\n",
       "      <th>29043</th>\n",
       "      <td>Brawn</td>\n",
       "      <td>€€</td>\n",
       "      <td>2017-08-06</td>\n",
       "      <td>4.7</td>\n",
       "      <td>4</td>\n",
       "      <td>If you want a really interesting menu, beautif...</td>\n",
       "    </tr>\n",
       "    <tr>\n",
       "      <th>29044</th>\n",
       "      <td>Brawn</td>\n",
       "      <td>€€</td>\n",
       "      <td>2022-11-29</td>\n",
       "      <td>4.7</td>\n",
       "      <td>5</td>\n",
       "      <td>Wonderful food!</td>\n",
       "    </tr>\n",
       "    <tr>\n",
       "      <th>29045</th>\n",
       "      <td>Brawn</td>\n",
       "      <td>€€</td>\n",
       "      <td>2018-08-05</td>\n",
       "      <td>4.7</td>\n",
       "      <td>4</td>\n",
       "      <td>Excellent value sunday lunch at £33pp for thre...</td>\n",
       "    </tr>\n",
       "  </tbody>\n",
       "</table>\n",
       "<p>27741 rows × 6 columns</p>\n",
       "</div>"
      ],
      "text/plain": [
       "           restaurant price review_date  total_score  stars  \\\n",
       "0      Twist Connubio   $$$  2022-03-26          4.6      5   \n",
       "1      Twist Connubio   $$$  2021-11-28          4.6      5   \n",
       "2      Twist Connubio   $$$  2022-07-09          4.6      5   \n",
       "3      Twist Connubio   $$$  2021-10-15          4.6      4   \n",
       "4      Twist Connubio   $$$  2022-03-29          4.6      5   \n",
       "...               ...   ...         ...          ...    ...   \n",
       "29041           Brawn    €€  2018-07-01          4.7      5   \n",
       "29042           Brawn    €€  2019-11-23          4.7      4   \n",
       "29043           Brawn    €€  2017-08-06          4.7      4   \n",
       "29044           Brawn    €€  2022-11-29          4.7      5   \n",
       "29045           Brawn    €€  2018-08-05          4.7      4   \n",
       "\n",
       "                                                    text  \n",
       "0      We came here for a dinner on Friday evening. T...  \n",
       "1      This meal is perhaps one of the best, if not t...  \n",
       "2      Delicious tapas-style Italo-Spanish restaurant...  \n",
       "3      Lovely tapas and the tasting menu have great o...  \n",
       "4      The service was top notch, the food was delici...  \n",
       "...                                                  ...  \n",
       "29041  The food here is truly fantastic. The service ...  \n",
       "29042  Very nice and convivial place. Went with my be...  \n",
       "29043  If you want a really interesting menu, beautif...  \n",
       "29044                                    Wonderful food!  \n",
       "29045  Excellent value sunday lunch at £33pp for thre...  \n",
       "\n",
       "[27741 rows x 6 columns]"
      ]
     },
     "execution_count": 15,
     "metadata": {},
     "output_type": "execute_result"
    }
   ],
   "source": [
    "df_google"
   ]
  },
  {
   "cell_type": "code",
   "execution_count": 16,
   "id": "a20f20e2",
   "metadata": {},
   "outputs": [
    {
     "data": {
      "image/png": "[encoded data removed]",
      "text/plain": [
       "<Figure size 432x360 with 1 Axes>"
      ]
     },
     "metadata": {
      "needs_background": "light"
     },
     "output_type": "display_data"
    }
   ],
   "source": [
    "#Google star count\n",
    "fig, ax = plt.subplots(figsize=(6, 5))\n",
    "sns.countplot(data=df_google, x=\"stars\")\n",
    "ax.bar_label(ax.containers[0])\n",
    "plt.show()"
   ]
  },
  {
   "cell_type": "markdown",
   "id": "b0fb43f2",
   "metadata": {},
   "source": [
    "## Tripadvisor prep"
   ]
  },
  {
   "cell_type": "code",
   "execution_count": 17,
   "id": "73d87da8",
   "metadata": {},
   "outputs": [
    {
     "data": {
      "text/html": [
       "<div>\n",
       "<style scoped>\n",
       "    .dataframe tbody tr th:only-of-type {\n",
       "        vertical-align: middle;\n",
       "    }\n",
       "\n",
       "    .dataframe tbody tr th {\n",
       "        vertical-align: top;\n",
       "    }\n",
       "\n",
       "    .dataframe thead th {\n",
       "        text-align: right;\n",
       "    }\n",
       "</style>\n",
       "<table border=\"1\" class=\"dataframe\">\n",
       "  <thead>\n",
       "    <tr style=\"text-align: right;\">\n",
       "      <th></th>\n",
       "      <th>restaurant</th>\n",
       "      <th>price</th>\n",
       "      <th>review_date</th>\n",
       "      <th>total_score</th>\n",
       "      <th>stars</th>\n",
       "      <th>text</th>\n",
       "    </tr>\n",
       "  </thead>\n",
       "  <tbody>\n",
       "    <tr>\n",
       "      <th>0</th>\n",
       "      <td>Bonoo Indian Tapas</td>\n",
       "      <td>££ - £££</td>\n",
       "      <td>18 January 2023</td>\n",
       "      <td>4.75</td>\n",
       "      <td>5.0</td>\n",
       "      <td>We visited for date night after reading lots o...</td>\n",
       "    </tr>\n",
       "    <tr>\n",
       "      <th>1</th>\n",
       "      <td>Bonoo Indian Tapas</td>\n",
       "      <td>££ - £££</td>\n",
       "      <td>17 January 2023</td>\n",
       "      <td>4.75</td>\n",
       "      <td>5.0</td>\n",
       "      <td>Lovely setting and food was amazing. We ordere...</td>\n",
       "    </tr>\n",
       "    <tr>\n",
       "      <th>2</th>\n",
       "      <td>Bonoo Indian Tapas</td>\n",
       "      <td>££ - £££</td>\n",
       "      <td>17 January 2023</td>\n",
       "      <td>4.75</td>\n",
       "      <td>4.0</td>\n",
       "      <td>Delicious food, especially the lollipop chicke...</td>\n",
       "    </tr>\n",
       "    <tr>\n",
       "      <th>3</th>\n",
       "      <td>Bonoo Indian Tapas</td>\n",
       "      <td>££ - £££</td>\n",
       "      <td>16 January 2023</td>\n",
       "      <td>4.75</td>\n",
       "      <td>5.0</td>\n",
       "      <td>FLABBERGASTED ! wauw, wonderful great combine ...</td>\n",
       "    </tr>\n",
       "    <tr>\n",
       "      <th>4</th>\n",
       "      <td>Bonoo Indian Tapas</td>\n",
       "      <td>££ - £££</td>\n",
       "      <td>15 January 2023</td>\n",
       "      <td>4.75</td>\n",
       "      <td>5.0</td>\n",
       "      <td>Really hospitable restaurant with servers happ...</td>\n",
       "    </tr>\n",
       "    <tr>\n",
       "      <th>...</th>\n",
       "      <td>...</td>\n",
       "      <td>...</td>\n",
       "      <td>...</td>\n",
       "      <td>...</td>\n",
       "      <td>...</td>\n",
       "      <td>...</td>\n",
       "    </tr>\n",
       "    <tr>\n",
       "      <th>46298</th>\n",
       "      <td>Modern Wing Chi Chef</td>\n",
       "      <td>£</td>\n",
       "      <td>2 October 2020</td>\n",
       "      <td>1.75</td>\n",
       "      <td>1.0</td>\n",
       "      <td>I can tell by other online reviews that this r...</td>\n",
       "    </tr>\n",
       "    <tr>\n",
       "      <th>46299</th>\n",
       "      <td>Modern Wing Chi Chef</td>\n",
       "      <td>£</td>\n",
       "      <td>29 September 2020</td>\n",
       "      <td>1.75</td>\n",
       "      <td>5.0</td>\n",
       "      <td>Food was all delicious, we ordered late in the...</td>\n",
       "    </tr>\n",
       "    <tr>\n",
       "      <th>46300</th>\n",
       "      <td>Modern Wing Chi Chef</td>\n",
       "      <td>£</td>\n",
       "      <td>26 September 2020</td>\n",
       "      <td>1.75</td>\n",
       "      <td>1.0</td>\n",
       "      <td>Pre ordered at 1845 for 2030 delivery.Arrived ...</td>\n",
       "    </tr>\n",
       "    <tr>\n",
       "      <th>46301</th>\n",
       "      <td>Modern Wing Chi Chef</td>\n",
       "      <td>£</td>\n",
       "      <td>15 August 2020</td>\n",
       "      <td>1.75</td>\n",
       "      <td>1.0</td>\n",
       "      <td>This is a fake restaurant do not eat here at a...</td>\n",
       "    </tr>\n",
       "    <tr>\n",
       "      <th>46302</th>\n",
       "      <td>Anges de Sucre</td>\n",
       "      <td>NaN</td>\n",
       "      <td>16 January 2023</td>\n",
       "      <td>1.00</td>\n",
       "      <td>1.0</td>\n",
       "      <td>Ordered a cake for my husband’s 40th birthday,...</td>\n",
       "    </tr>\n",
       "  </tbody>\n",
       "</table>\n",
       "<p>46303 rows × 6 columns</p>\n",
       "</div>"
      ],
      "text/plain": [
       "                 restaurant     price        review_date  total_score  stars  \\\n",
       "0        Bonoo Indian Tapas  ££ - £££    18 January 2023         4.75    5.0   \n",
       "1        Bonoo Indian Tapas  ££ - £££    17 January 2023         4.75    5.0   \n",
       "2        Bonoo Indian Tapas  ££ - £££    17 January 2023         4.75    4.0   \n",
       "3        Bonoo Indian Tapas  ££ - £££    16 January 2023         4.75    5.0   \n",
       "4        Bonoo Indian Tapas  ££ - £££    15 January 2023         4.75    5.0   \n",
       "...                     ...       ...                ...          ...    ...   \n",
       "46298  Modern Wing Chi Chef         £     2 October 2020         1.75    1.0   \n",
       "46299  Modern Wing Chi Chef         £  29 September 2020         1.75    5.0   \n",
       "46300  Modern Wing Chi Chef         £  26 September 2020         1.75    1.0   \n",
       "46301  Modern Wing Chi Chef         £     15 August 2020         1.75    1.0   \n",
       "46302        Anges de Sucre       NaN    16 January 2023         1.00    1.0   \n",
       "\n",
       "                                                    text  \n",
       "0      We visited for date night after reading lots o...  \n",
       "1      Lovely setting and food was amazing. We ordere...  \n",
       "2      Delicious food, especially the lollipop chicke...  \n",
       "3      FLABBERGASTED ! wauw, wonderful great combine ...  \n",
       "4      Really hospitable restaurant with servers happ...  \n",
       "...                                                  ...  \n",
       "46298  I can tell by other online reviews that this r...  \n",
       "46299  Food was all delicious, we ordered late in the...  \n",
       "46300  Pre ordered at 1845 for 2030 delivery.Arrived ...  \n",
       "46301  This is a fake restaurant do not eat here at a...  \n",
       "46302  Ordered a cake for my husband’s 40th birthday,...  \n",
       "\n",
       "[46303 rows x 6 columns]"
      ]
     },
     "execution_count": 17,
     "metadata": {},
     "output_type": "execute_result"
    }
   ],
   "source": [
    "df_tripadvisor = tripadvisor[['restaurant','price', 'review date', 'float rating', 'rating', 'text']]\n",
    "df_tripadvisor = df_tripadvisor.rename({'review date': 'review_date', 'float rating': 'total_score', 'rating': 'stars'}, axis=1)\n",
    "df_tripadvisor"
   ]
  },
  {
   "cell_type": "code",
   "execution_count": 18,
   "id": "fab07acd",
   "metadata": {},
   "outputs": [
    {
     "data": {
      "text/plain": [
       "price          3.673263\n",
       "text           0.068491\n",
       "restaurant     0.000000\n",
       "review_date    0.000000\n",
       "total_score    0.000000\n",
       "stars          0.000000\n",
       "dtype: float64"
      ]
     },
     "execution_count": 18,
     "metadata": {},
     "output_type": "execute_result"
    }
   ],
   "source": [
    "#Check missing percentage\n",
    "df_tripadvisor.isna().sum().sort_values(ascending=False)/len(df_google)*100"
   ]
  },
  {
   "cell_type": "code",
   "execution_count": 19,
   "id": "476ab3b8",
   "metadata": {},
   "outputs": [
    {
     "data": {
      "text/plain": [
       "price          1019\n",
       "text             19\n",
       "restaurant        0\n",
       "review_date       0\n",
       "total_score       0\n",
       "stars             0\n",
       "dtype: int64"
      ]
     },
     "execution_count": 19,
     "metadata": {},
     "output_type": "execute_result"
    }
   ],
   "source": [
    "df_tripadvisor.isna().sum().sort_values(ascending=False)"
   ]
  },
  {
   "cell_type": "code",
   "execution_count": 20,
   "id": "da5909e8",
   "metadata": {},
   "outputs": [
    {
     "data": {
      "text/plain": [
       "restaurant        0\n",
       "price          1019\n",
       "review_date       0\n",
       "total_score       0\n",
       "stars             0\n",
       "text              0\n",
       "dtype: int64"
      ]
     },
     "execution_count": 20,
     "metadata": {},
     "output_type": "execute_result"
    }
   ],
   "source": [
    "#Dropping the empty reviews\n",
    "df_tripadvisor = df_tripadvisor[df_tripadvisor['text'].notna()]\n",
    "df_tripadvisor.isnull().sum() "
   ]
  },
  {
   "cell_type": "code",
   "execution_count": 21,
   "id": "a3c42eae",
   "metadata": {},
   "outputs": [
    {
     "data": {
      "text/plain": [
       "££ - £££    38184\n",
       "££££         3648\n",
       "£            3419\n",
       "€5 - €9        14\n",
       "Name: price, dtype: int64"
      ]
     },
     "execution_count": 21,
     "metadata": {},
     "output_type": "execute_result"
    }
   ],
   "source": [
    "df_tripadvisor['price'].value_counts()\n",
    "#Dropping the price column as they are not comparable between google reviews and tripadvisor reviews."
   ]
  },
  {
   "cell_type": "code",
   "execution_count": 22,
   "id": "1a464059",
   "metadata": {},
   "outputs": [
    {
     "name": "stderr",
     "output_type": "stream",
     "text": [
      "/var/folders/_x/zjy2t0_91j3fcrwwh4976v6c0000gn/T/ipykernel_82930/3590937122.py:1: SettingWithCopyWarning: \n",
      "A value is trying to be set on a copy of a slice from a DataFrame.\n",
      "Try using .loc[row_indexer,col_indexer] = value instead\n",
      "\n",
      "See the caveats in the documentation: https://pandas.pydata.org/pandas-docs/stable/user_guide/indexing.html#returning-a-view-versus-a-copy\n",
      "  df_tripadvisor['stars'] = df_tripadvisor['stars'].astype('int')\n"
     ]
    }
   ],
   "source": [
    "df_tripadvisor['stars'] = df_tripadvisor['stars'].astype('int')"
   ]
  },
  {
   "cell_type": "code",
   "execution_count": 23,
   "id": "883e80da",
   "metadata": {},
   "outputs": [
    {
     "name": "stderr",
     "output_type": "stream",
     "text": [
      "/var/folders/_x/zjy2t0_91j3fcrwwh4976v6c0000gn/T/ipykernel_82930/3384440135.py:1: SettingWithCopyWarning: \n",
      "A value is trying to be set on a copy of a slice from a DataFrame.\n",
      "Try using .loc[row_indexer,col_indexer] = value instead\n",
      "\n",
      "See the caveats in the documentation: https://pandas.pydata.org/pandas-docs/stable/user_guide/indexing.html#returning-a-view-versus-a-copy\n",
      "  df_tripadvisor['stars'] = df_tripadvisor['stars'].astype('str')\n"
     ]
    }
   ],
   "source": [
    "df_tripadvisor['stars'] = df_tripadvisor['stars'].astype('str')"
   ]
  },
  {
   "cell_type": "code",
   "execution_count": 24,
   "id": "86b4c558",
   "metadata": {},
   "outputs": [
    {
     "data": {
      "text/plain": [
       "dtype('O')"
      ]
     },
     "execution_count": 24,
     "metadata": {},
     "output_type": "execute_result"
    }
   ],
   "source": [
    "df_tripadvisor['stars'].dtypes"
   ]
  },
  {
   "cell_type": "code",
   "execution_count": 25,
   "id": "1b71d630",
   "metadata": {},
   "outputs": [
    {
     "name": "stderr",
     "output_type": "stream",
     "text": [
      "/var/folders/_x/zjy2t0_91j3fcrwwh4976v6c0000gn/T/ipykernel_82930/3005568734.py:2: SettingWithCopyWarning: \n",
      "A value is trying to be set on a copy of a slice from a DataFrame.\n",
      "Try using .loc[row_indexer,col_indexer] = value instead\n",
      "\n",
      "See the caveats in the documentation: https://pandas.pydata.org/pandas-docs/stable/user_guide/indexing.html#returning-a-view-versus-a-copy\n",
      "  df_tripadvisor['review_date'] = pd.to_datetime(df_tripadvisor['review_date'])\n",
      "/var/folders/_x/zjy2t0_91j3fcrwwh4976v6c0000gn/T/ipykernel_82930/3005568734.py:3: SettingWithCopyWarning: \n",
      "A value is trying to be set on a copy of a slice from a DataFrame.\n",
      "Try using .loc[row_indexer,col_indexer] = value instead\n",
      "\n",
      "See the caveats in the documentation: https://pandas.pydata.org/pandas-docs/stable/user_guide/indexing.html#returning-a-view-versus-a-copy\n",
      "  df_tripadvisor['review_date'] = pd.to_datetime(df_tripadvisor['review_date'].dt.strftime('%Y-%m-%d'))\n"
     ]
    },
    {
     "data": {
      "text/plain": [
       "dtype('<M8[ns]')"
      ]
     },
     "execution_count": 25,
     "metadata": {},
     "output_type": "execute_result"
    }
   ],
   "source": [
    "#Changing date format for future plot\n",
    "df_tripadvisor['review_date'] = pd.to_datetime(df_tripadvisor['review_date'])\n",
    "df_tripadvisor['review_date'] = pd.to_datetime(df_tripadvisor['review_date'].dt.strftime('%Y-%m-%d'))\n",
    "df_tripadvisor['review_date'].dtypes"
   ]
  },
  {
   "cell_type": "code",
   "execution_count": 26,
   "id": "71c4b23c",
   "metadata": {},
   "outputs": [
    {
     "data": {
      "image/png": "[encoded data removed]",
      "text/plain": [
       "<Figure size 432x360 with 1 Axes>"
      ]
     },
     "metadata": {
      "needs_background": "light"
     },
     "output_type": "display_data"
    }
   ],
   "source": [
    "#Tripadvisor star count\n",
    "fig, ax = plt.subplots(figsize=(6, 5))\n",
    "sns.countplot(data = df_tripadvisor, x=df_tripadvisor[\"stars\"].sort_values())\n",
    "ax.bar_label(ax.containers[0])\n",
    "plt.show()"
   ]
  },
  {
   "cell_type": "markdown",
   "id": "ca0aea9f",
   "metadata": {},
   "source": [
    "## Concatinating the two dataframes"
   ]
  },
  {
   "cell_type": "code",
   "execution_count": 27,
   "id": "d7d68b62",
   "metadata": {},
   "outputs": [
    {
     "data": {
      "text/html": [
       "<div>\n",
       "<style scoped>\n",
       "    .dataframe tbody tr th:only-of-type {\n",
       "        vertical-align: middle;\n",
       "    }\n",
       "\n",
       "    .dataframe tbody tr th {\n",
       "        vertical-align: top;\n",
       "    }\n",
       "\n",
       "    .dataframe thead th {\n",
       "        text-align: right;\n",
       "    }\n",
       "</style>\n",
       "<table border=\"1\" class=\"dataframe\">\n",
       "  <thead>\n",
       "    <tr style=\"text-align: right;\">\n",
       "      <th></th>\n",
       "      <th>restaurant</th>\n",
       "      <th>price</th>\n",
       "      <th>review_date</th>\n",
       "      <th>total_score</th>\n",
       "      <th>stars</th>\n",
       "      <th>text</th>\n",
       "    </tr>\n",
       "  </thead>\n",
       "  <tbody>\n",
       "    <tr>\n",
       "      <th>0</th>\n",
       "      <td>Twist Connubio</td>\n",
       "      <td>$$$</td>\n",
       "      <td>2022-03-26</td>\n",
       "      <td>4.60</td>\n",
       "      <td>5</td>\n",
       "      <td>We came here for a dinner on Friday evening. T...</td>\n",
       "    </tr>\n",
       "    <tr>\n",
       "      <th>1</th>\n",
       "      <td>Twist Connubio</td>\n",
       "      <td>$$$</td>\n",
       "      <td>2021-11-28</td>\n",
       "      <td>4.60</td>\n",
       "      <td>5</td>\n",
       "      <td>This meal is perhaps one of the best, if not t...</td>\n",
       "    </tr>\n",
       "    <tr>\n",
       "      <th>2</th>\n",
       "      <td>Twist Connubio</td>\n",
       "      <td>$$$</td>\n",
       "      <td>2022-07-09</td>\n",
       "      <td>4.60</td>\n",
       "      <td>5</td>\n",
       "      <td>Delicious tapas-style Italo-Spanish restaurant...</td>\n",
       "    </tr>\n",
       "    <tr>\n",
       "      <th>3</th>\n",
       "      <td>Twist Connubio</td>\n",
       "      <td>$$$</td>\n",
       "      <td>2021-10-15</td>\n",
       "      <td>4.60</td>\n",
       "      <td>4</td>\n",
       "      <td>Lovely tapas and the tasting menu have great o...</td>\n",
       "    </tr>\n",
       "    <tr>\n",
       "      <th>4</th>\n",
       "      <td>Twist Connubio</td>\n",
       "      <td>$$$</td>\n",
       "      <td>2022-03-29</td>\n",
       "      <td>4.60</td>\n",
       "      <td>5</td>\n",
       "      <td>The service was top notch, the food was delici...</td>\n",
       "    </tr>\n",
       "    <tr>\n",
       "      <th>...</th>\n",
       "      <td>...</td>\n",
       "      <td>...</td>\n",
       "      <td>...</td>\n",
       "      <td>...</td>\n",
       "      <td>...</td>\n",
       "      <td>...</td>\n",
       "    </tr>\n",
       "    <tr>\n",
       "      <th>46298</th>\n",
       "      <td>Modern Wing Chi Chef</td>\n",
       "      <td>£</td>\n",
       "      <td>2020-10-02</td>\n",
       "      <td>1.75</td>\n",
       "      <td>1</td>\n",
       "      <td>I can tell by other online reviews that this r...</td>\n",
       "    </tr>\n",
       "    <tr>\n",
       "      <th>46299</th>\n",
       "      <td>Modern Wing Chi Chef</td>\n",
       "      <td>£</td>\n",
       "      <td>2020-09-29</td>\n",
       "      <td>1.75</td>\n",
       "      <td>5</td>\n",
       "      <td>Food was all delicious, we ordered late in the...</td>\n",
       "    </tr>\n",
       "    <tr>\n",
       "      <th>46300</th>\n",
       "      <td>Modern Wing Chi Chef</td>\n",
       "      <td>£</td>\n",
       "      <td>2020-09-26</td>\n",
       "      <td>1.75</td>\n",
       "      <td>1</td>\n",
       "      <td>Pre ordered at 1845 for 2030 delivery.Arrived ...</td>\n",
       "    </tr>\n",
       "    <tr>\n",
       "      <th>46301</th>\n",
       "      <td>Modern Wing Chi Chef</td>\n",
       "      <td>£</td>\n",
       "      <td>2020-08-15</td>\n",
       "      <td>1.75</td>\n",
       "      <td>1</td>\n",
       "      <td>This is a fake restaurant do not eat here at a...</td>\n",
       "    </tr>\n",
       "    <tr>\n",
       "      <th>46302</th>\n",
       "      <td>Anges de Sucre</td>\n",
       "      <td>NaN</td>\n",
       "      <td>2023-01-16</td>\n",
       "      <td>1.00</td>\n",
       "      <td>1</td>\n",
       "      <td>Ordered a cake for my husband’s 40th birthday,...</td>\n",
       "    </tr>\n",
       "  </tbody>\n",
       "</table>\n",
       "<p>74025 rows × 6 columns</p>\n",
       "</div>"
      ],
      "text/plain": [
       "                 restaurant price review_date  total_score stars  \\\n",
       "0            Twist Connubio   $$$  2022-03-26         4.60     5   \n",
       "1            Twist Connubio   $$$  2021-11-28         4.60     5   \n",
       "2            Twist Connubio   $$$  2022-07-09         4.60     5   \n",
       "3            Twist Connubio   $$$  2021-10-15         4.60     4   \n",
       "4            Twist Connubio   $$$  2022-03-29         4.60     5   \n",
       "...                     ...   ...         ...          ...   ...   \n",
       "46298  Modern Wing Chi Chef     £  2020-10-02         1.75     1   \n",
       "46299  Modern Wing Chi Chef     £  2020-09-29         1.75     5   \n",
       "46300  Modern Wing Chi Chef     £  2020-09-26         1.75     1   \n",
       "46301  Modern Wing Chi Chef     £  2020-08-15         1.75     1   \n",
       "46302        Anges de Sucre   NaN  2023-01-16         1.00     1   \n",
       "\n",
       "                                                    text  \n",
       "0      We came here for a dinner on Friday evening. T...  \n",
       "1      This meal is perhaps one of the best, if not t...  \n",
       "2      Delicious tapas-style Italo-Spanish restaurant...  \n",
       "3      Lovely tapas and the tasting menu have great o...  \n",
       "4      The service was top notch, the food was delici...  \n",
       "...                                                  ...  \n",
       "46298  I can tell by other online reviews that this r...  \n",
       "46299  Food was all delicious, we ordered late in the...  \n",
       "46300  Pre ordered at 1845 for 2030 delivery.Arrived ...  \n",
       "46301  This is a fake restaurant do not eat here at a...  \n",
       "46302  Ordered a cake for my husband’s 40th birthday,...  \n",
       "\n",
       "[74025 rows x 6 columns]"
      ]
     },
     "execution_count": 27,
     "metadata": {},
     "output_type": "execute_result"
    }
   ],
   "source": [
    "df_reviews = pd.concat([df_google, df_tripadvisor])\n",
    "df_reviews"
   ]
  },
  {
   "cell_type": "code",
   "execution_count": 28,
   "id": "55c89db6",
   "metadata": {},
   "outputs": [
    {
     "data": {
      "text/html": [
       "<div>\n",
       "<style scoped>\n",
       "    .dataframe tbody tr th:only-of-type {\n",
       "        vertical-align: middle;\n",
       "    }\n",
       "\n",
       "    .dataframe tbody tr th {\n",
       "        vertical-align: top;\n",
       "    }\n",
       "\n",
       "    .dataframe thead th {\n",
       "        text-align: right;\n",
       "    }\n",
       "</style>\n",
       "<table border=\"1\" class=\"dataframe\">\n",
       "  <thead>\n",
       "    <tr style=\"text-align: right;\">\n",
       "      <th></th>\n",
       "      <th>restaurant</th>\n",
       "      <th>price</th>\n",
       "      <th>review_date</th>\n",
       "      <th>total_score</th>\n",
       "      <th>stars</th>\n",
       "      <th>text</th>\n",
       "      <th>word_count</th>\n",
       "    </tr>\n",
       "  </thead>\n",
       "  <tbody>\n",
       "    <tr>\n",
       "      <th>0</th>\n",
       "      <td>Twist Connubio</td>\n",
       "      <td>$$$</td>\n",
       "      <td>2022-03-26</td>\n",
       "      <td>4.60</td>\n",
       "      <td>5</td>\n",
       "      <td>We came here for a dinner on Friday evening. T...</td>\n",
       "      <td>84</td>\n",
       "    </tr>\n",
       "    <tr>\n",
       "      <th>1</th>\n",
       "      <td>Twist Connubio</td>\n",
       "      <td>$$$</td>\n",
       "      <td>2021-11-28</td>\n",
       "      <td>4.60</td>\n",
       "      <td>5</td>\n",
       "      <td>This meal is perhaps one of the best, if not t...</td>\n",
       "      <td>144</td>\n",
       "    </tr>\n",
       "    <tr>\n",
       "      <th>2</th>\n",
       "      <td>Twist Connubio</td>\n",
       "      <td>$$$</td>\n",
       "      <td>2022-07-09</td>\n",
       "      <td>4.60</td>\n",
       "      <td>5</td>\n",
       "      <td>Delicious tapas-style Italo-Spanish restaurant...</td>\n",
       "      <td>89</td>\n",
       "    </tr>\n",
       "    <tr>\n",
       "      <th>3</th>\n",
       "      <td>Twist Connubio</td>\n",
       "      <td>$$$</td>\n",
       "      <td>2021-10-15</td>\n",
       "      <td>4.60</td>\n",
       "      <td>4</td>\n",
       "      <td>Lovely tapas and the tasting menu have great o...</td>\n",
       "      <td>46</td>\n",
       "    </tr>\n",
       "    <tr>\n",
       "      <th>4</th>\n",
       "      <td>Twist Connubio</td>\n",
       "      <td>$$$</td>\n",
       "      <td>2022-03-29</td>\n",
       "      <td>4.60</td>\n",
       "      <td>5</td>\n",
       "      <td>The service was top notch, the food was delici...</td>\n",
       "      <td>28</td>\n",
       "    </tr>\n",
       "    <tr>\n",
       "      <th>...</th>\n",
       "      <td>...</td>\n",
       "      <td>...</td>\n",
       "      <td>...</td>\n",
       "      <td>...</td>\n",
       "      <td>...</td>\n",
       "      <td>...</td>\n",
       "      <td>...</td>\n",
       "    </tr>\n",
       "    <tr>\n",
       "      <th>46298</th>\n",
       "      <td>Modern Wing Chi Chef</td>\n",
       "      <td>£</td>\n",
       "      <td>2020-10-02</td>\n",
       "      <td>1.75</td>\n",
       "      <td>1</td>\n",
       "      <td>I can tell by other online reviews that this r...</td>\n",
       "      <td>28</td>\n",
       "    </tr>\n",
       "    <tr>\n",
       "      <th>46299</th>\n",
       "      <td>Modern Wing Chi Chef</td>\n",
       "      <td>£</td>\n",
       "      <td>2020-09-29</td>\n",
       "      <td>1.75</td>\n",
       "      <td>5</td>\n",
       "      <td>Food was all delicious, we ordered late in the...</td>\n",
       "      <td>26</td>\n",
       "    </tr>\n",
       "    <tr>\n",
       "      <th>46300</th>\n",
       "      <td>Modern Wing Chi Chef</td>\n",
       "      <td>£</td>\n",
       "      <td>2020-09-26</td>\n",
       "      <td>1.75</td>\n",
       "      <td>1</td>\n",
       "      <td>Pre ordered at 1845 for 2030 delivery.Arrived ...</td>\n",
       "      <td>41</td>\n",
       "    </tr>\n",
       "    <tr>\n",
       "      <th>46301</th>\n",
       "      <td>Modern Wing Chi Chef</td>\n",
       "      <td>£</td>\n",
       "      <td>2020-08-15</td>\n",
       "      <td>1.75</td>\n",
       "      <td>1</td>\n",
       "      <td>This is a fake restaurant do not eat here at a...</td>\n",
       "      <td>52</td>\n",
       "    </tr>\n",
       "    <tr>\n",
       "      <th>46302</th>\n",
       "      <td>Anges de Sucre</td>\n",
       "      <td>NaN</td>\n",
       "      <td>2023-01-16</td>\n",
       "      <td>1.00</td>\n",
       "      <td>1</td>\n",
       "      <td>Ordered a cake for my husband’s 40th birthday,...</td>\n",
       "      <td>45</td>\n",
       "    </tr>\n",
       "  </tbody>\n",
       "</table>\n",
       "<p>74025 rows × 7 columns</p>\n",
       "</div>"
      ],
      "text/plain": [
       "                 restaurant price review_date  total_score stars  \\\n",
       "0            Twist Connubio   $$$  2022-03-26         4.60     5   \n",
       "1            Twist Connubio   $$$  2021-11-28         4.60     5   \n",
       "2            Twist Connubio   $$$  2022-07-09         4.60     5   \n",
       "3            Twist Connubio   $$$  2021-10-15         4.60     4   \n",
       "4            Twist Connubio   $$$  2022-03-29         4.60     5   \n",
       "...                     ...   ...         ...          ...   ...   \n",
       "46298  Modern Wing Chi Chef     £  2020-10-02         1.75     1   \n",
       "46299  Modern Wing Chi Chef     £  2020-09-29         1.75     5   \n",
       "46300  Modern Wing Chi Chef     £  2020-09-26         1.75     1   \n",
       "46301  Modern Wing Chi Chef     £  2020-08-15         1.75     1   \n",
       "46302        Anges de Sucre   NaN  2023-01-16         1.00     1   \n",
       "\n",
       "                                                    text  word_count  \n",
       "0      We came here for a dinner on Friday evening. T...          84  \n",
       "1      This meal is perhaps one of the best, if not t...         144  \n",
       "2      Delicious tapas-style Italo-Spanish restaurant...          89  \n",
       "3      Lovely tapas and the tasting menu have great o...          46  \n",
       "4      The service was top notch, the food was delici...          28  \n",
       "...                                                  ...         ...  \n",
       "46298  I can tell by other online reviews that this r...          28  \n",
       "46299  Food was all delicious, we ordered late in the...          26  \n",
       "46300  Pre ordered at 1845 for 2030 delivery.Arrived ...          41  \n",
       "46301  This is a fake restaurant do not eat here at a...          52  \n",
       "46302  Ordered a cake for my husband’s 40th birthday,...          45  \n",
       "\n",
       "[74025 rows x 7 columns]"
      ]
     },
     "execution_count": 28,
     "metadata": {},
     "output_type": "execute_result"
    }
   ],
   "source": [
    "df_reviews['word_count'] = df_reviews['text'].str.split().map(lambda x: len(x))\n",
    "df_reviews"
   ]
  },
  {
   "cell_type": "code",
   "execution_count": 29,
   "id": "c92756cb",
   "metadata": {},
   "outputs": [
    {
     "data": {
      "text/plain": [
       "array([5, 4, 3, 2, 1, '5', '4', '1', '3', '2'], dtype=object)"
      ]
     },
     "execution_count": 29,
     "metadata": {},
     "output_type": "execute_result"
    }
   ],
   "source": [
    "df_reviews['stars'].unique()"
   ]
  },
  {
   "cell_type": "code",
   "execution_count": 30,
   "id": "167b2987",
   "metadata": {},
   "outputs": [
    {
     "data": {
      "text/plain": [
       "dtype('O')"
      ]
     },
     "execution_count": 30,
     "metadata": {},
     "output_type": "execute_result"
    }
   ],
   "source": [
    "df_reviews['stars'].dtypes"
   ]
  },
  {
   "cell_type": "code",
   "execution_count": 31,
   "id": "1a164102",
   "metadata": {},
   "outputs": [],
   "source": [
    "df_reviews['stars'] = df_reviews['stars'].astype('int')"
   ]
  },
  {
   "cell_type": "code",
   "execution_count": 32,
   "id": "a5e1ba4e",
   "metadata": {},
   "outputs": [
    {
     "data": {
      "image/png": "[encoded data removed]",
      "text/plain": [
       "<Figure size 432x360 with 1 Axes>"
      ]
     },
     "metadata": {
      "needs_background": "light"
     },
     "output_type": "display_data"
    }
   ],
   "source": [
    "#Reviews star count\n",
    "fig, ax = plt.subplots(figsize=(6, 5))\n",
    "sns.countplot(data = df_reviews, x='stars', palette='Spectral')\n",
    "ax.bar_label(ax.containers[0])\n",
    "plt.ylabel('Review Count', fontsize=10)\n",
    "plt.xlabel('Stars', fontsize=10)\n",
    "#plt.xticks(fontsize=18)\n",
    "#plt.yticks(fontsize=18)\n",
    "plt.title('Review Count per Star Category', fontsize=15)\n",
    "plt.show()\n",
    "\n",
    "#Dataset is skewed, more than 58% of the reviews is a 5 star."
   ]
  },
  {
   "cell_type": "code",
   "execution_count": 33,
   "id": "49805e89",
   "metadata": {},
   "outputs": [
    {
     "data": {
      "text/plain": [
       "0.5840054035798716"
      ]
     },
     "execution_count": 33,
     "metadata": {},
     "output_type": "execute_result"
    }
   ],
   "source": [
    "43231/74025"
   ]
  },
  {
   "cell_type": "markdown",
   "id": "6e67fb7e",
   "metadata": {},
   "source": [
    "## Sampling"
   ]
  },
  {
   "cell_type": "markdown",
   "id": "34f0a485",
   "metadata": {},
   "source": [
    "*The following cells are turned into markdowns to prevent getting different results each time. We worked with the download df_sample csv file.*"
   ]
  },
  {
   "cell_type": "markdown",
   "id": "76634985",
   "metadata": {},
   "source": [
    "#Taking equal samples of each star (2 stars only had 4146 reviews so we use 4146 for each star)  \n",
    "\n",
    "dfq1 = df_reviews.query(\"stars == 1\").sample(n=4146)  \n",
    "dfq2 = df_reviews.query(\"stars == 2\").sample(n=4146)  \n",
    "dfq3 = df_reviews.query(\"stars == 3\").sample(n=4146)  \n",
    "dfq4 = df_reviews.query(\"stars == 4\").sample(n=4146)  \n",
    "dfq5 = df_reviews.query(\"stars == 5\").sample(n=4146)  "
   ]
  },
  {
   "cell_type": "markdown",
   "id": "259217e1",
   "metadata": {},
   "source": [
    "pdList = [dfq1, dfq2, dfq3, dfq4, dfq5]  \n",
    "\n",
    "df_sample = pd.concat(pdList)  \n",
    "df_sample.to_csv('df_sample.csv')  \n",
    "df_sample.shape "
   ]
  },
  {
   "cell_type": "code",
   "execution_count": 34,
   "id": "c102cc60",
   "metadata": {},
   "outputs": [
    {
     "data": {
      "text/html": [
       "<div>\n",
       "<style scoped>\n",
       "    .dataframe tbody tr th:only-of-type {\n",
       "        vertical-align: middle;\n",
       "    }\n",
       "\n",
       "    .dataframe tbody tr th {\n",
       "        vertical-align: top;\n",
       "    }\n",
       "\n",
       "    .dataframe thead th {\n",
       "        text-align: right;\n",
       "    }\n",
       "</style>\n",
       "<table border=\"1\" class=\"dataframe\">\n",
       "  <thead>\n",
       "    <tr style=\"text-align: right;\">\n",
       "      <th></th>\n",
       "      <th>Unnamed: 0</th>\n",
       "      <th>index</th>\n",
       "      <th>restaurant</th>\n",
       "      <th>price</th>\n",
       "      <th>review_date</th>\n",
       "      <th>total_score</th>\n",
       "      <th>stars</th>\n",
       "      <th>text</th>\n",
       "      <th>word_count</th>\n",
       "    </tr>\n",
       "  </thead>\n",
       "  <tbody>\n",
       "    <tr>\n",
       "      <th>0</th>\n",
       "      <td>23392</td>\n",
       "      <td>24697</td>\n",
       "      <td>The Victoria</td>\n",
       "      <td>$$</td>\n",
       "      <td>2017-09-22</td>\n",
       "      <td>4.30</td>\n",
       "      <td>1</td>\n",
       "      <td>Never known a pub go downhill so fast.\\nI've b...</td>\n",
       "      <td>132</td>\n",
       "    </tr>\n",
       "    <tr>\n",
       "      <th>1</th>\n",
       "      <td>60328</td>\n",
       "      <td>32602</td>\n",
       "      <td>Thai Crystal</td>\n",
       "      <td>££ - £££</td>\n",
       "      <td>2018-04-27</td>\n",
       "      <td>3.74</td>\n",
       "      <td>1</td>\n",
       "      <td>I used to love this place and I was there at l...</td>\n",
       "      <td>146</td>\n",
       "    </tr>\n",
       "    <tr>\n",
       "      <th>2</th>\n",
       "      <td>72960</td>\n",
       "      <td>45238</td>\n",
       "      <td>The Golden Pagoda AKA The Lotus Garden</td>\n",
       "      <td>££ - £££</td>\n",
       "      <td>2015-08-27</td>\n",
       "      <td>2.45</td>\n",
       "      <td>1</td>\n",
       "      <td>Worst service in China Town. Food good when it...</td>\n",
       "      <td>37</td>\n",
       "    </tr>\n",
       "    <tr>\n",
       "      <th>3</th>\n",
       "      <td>61358</td>\n",
       "      <td>33632</td>\n",
       "      <td>No 197 Chiswick Fire Station</td>\n",
       "      <td>££ - £££</td>\n",
       "      <td>2018-01-02</td>\n",
       "      <td>3.42</td>\n",
       "      <td>1</td>\n",
       "      <td>I came here with my family and we ordered a mi...</td>\n",
       "      <td>78</td>\n",
       "    </tr>\n",
       "    <tr>\n",
       "      <th>4</th>\n",
       "      <td>43035</td>\n",
       "      <td>15299</td>\n",
       "      <td>The Lamb Tavern</td>\n",
       "      <td>££ - £££</td>\n",
       "      <td>2022-06-10</td>\n",
       "      <td>3.64</td>\n",
       "      <td>1</td>\n",
       "      <td>Decided to call in as it was a nice day and th...</td>\n",
       "      <td>124</td>\n",
       "    </tr>\n",
       "    <tr>\n",
       "      <th>...</th>\n",
       "      <td>...</td>\n",
       "      <td>...</td>\n",
       "      <td>...</td>\n",
       "      <td>...</td>\n",
       "      <td>...</td>\n",
       "      <td>...</td>\n",
       "      <td>...</td>\n",
       "      <td>...</td>\n",
       "      <td>...</td>\n",
       "    </tr>\n",
       "    <tr>\n",
       "      <th>20725</th>\n",
       "      <td>34963</td>\n",
       "      <td>7224</td>\n",
       "      <td>Mirror Room</td>\n",
       "      <td>££££</td>\n",
       "      <td>2016-12-20</td>\n",
       "      <td>3.94</td>\n",
       "      <td>5</td>\n",
       "      <td>We have been here 2 weeks ago for an afternoon...</td>\n",
       "      <td>73</td>\n",
       "    </tr>\n",
       "    <tr>\n",
       "      <th>20726</th>\n",
       "      <td>34362</td>\n",
       "      <td>6623</td>\n",
       "      <td>Sidi Bou - London</td>\n",
       "      <td>££ - £££</td>\n",
       "      <td>2022-02-27</td>\n",
       "      <td>4.61</td>\n",
       "      <td>5</td>\n",
       "      <td>We really enjoyed the food and the restaurant....</td>\n",
       "      <td>20</td>\n",
       "    </tr>\n",
       "    <tr>\n",
       "      <th>20727</th>\n",
       "      <td>56955</td>\n",
       "      <td>29228</td>\n",
       "      <td>The Cow Saloon Bar &amp; Dining Rooms</td>\n",
       "      <td>££ - £££</td>\n",
       "      <td>2014-07-16</td>\n",
       "      <td>3.23</td>\n",
       "      <td>5</td>\n",
       "      <td>Having read the reviews on trip advisor, we vi...</td>\n",
       "      <td>30</td>\n",
       "    </tr>\n",
       "    <tr>\n",
       "      <th>20728</th>\n",
       "      <td>10977</td>\n",
       "      <td>11787</td>\n",
       "      <td>Social Eating House</td>\n",
       "      <td>$$</td>\n",
       "      <td>2022-03-26</td>\n",
       "      <td>4.30</td>\n",
       "      <td>5</td>\n",
       "      <td>Had an amazing time at the chef counter experi...</td>\n",
       "      <td>30</td>\n",
       "    </tr>\n",
       "    <tr>\n",
       "      <th>20729</th>\n",
       "      <td>31048</td>\n",
       "      <td>3309</td>\n",
       "      <td>Portobello Garden Caffe</td>\n",
       "      <td>££ - £££</td>\n",
       "      <td>2016-08-19</td>\n",
       "      <td>2.85</td>\n",
       "      <td>5</td>\n",
       "      <td>Just had a great evening here , lovely food an...</td>\n",
       "      <td>30</td>\n",
       "    </tr>\n",
       "  </tbody>\n",
       "</table>\n",
       "<p>20730 rows × 9 columns</p>\n",
       "</div>"
      ],
      "text/plain": [
       "       Unnamed: 0  index                              restaurant     price  \\\n",
       "0           23392  24697                            The Victoria        $$   \n",
       "1           60328  32602                            Thai Crystal  ££ - £££   \n",
       "2           72960  45238  The Golden Pagoda AKA The Lotus Garden  ££ - £££   \n",
       "3           61358  33632            No 197 Chiswick Fire Station  ££ - £££   \n",
       "4           43035  15299                         The Lamb Tavern  ££ - £££   \n",
       "...           ...    ...                                     ...       ...   \n",
       "20725       34963   7224                             Mirror Room      ££££   \n",
       "20726       34362   6623                       Sidi Bou - London  ££ - £££   \n",
       "20727       56955  29228       The Cow Saloon Bar & Dining Rooms  ££ - £££   \n",
       "20728       10977  11787                     Social Eating House        $$   \n",
       "20729       31048   3309                 Portobello Garden Caffe  ££ - £££   \n",
       "\n",
       "      review_date  total_score  stars  \\\n",
       "0      2017-09-22         4.30      1   \n",
       "1      2018-04-27         3.74      1   \n",
       "2      2015-08-27         2.45      1   \n",
       "3      2018-01-02         3.42      1   \n",
       "4      2022-06-10         3.64      1   \n",
       "...           ...          ...    ...   \n",
       "20725  2016-12-20         3.94      5   \n",
       "20726  2022-02-27         4.61      5   \n",
       "20727  2014-07-16         3.23      5   \n",
       "20728  2022-03-26         4.30      5   \n",
       "20729  2016-08-19         2.85      5   \n",
       "\n",
       "                                                    text  word_count  \n",
       "0      Never known a pub go downhill so fast.\\nI've b...         132  \n",
       "1      I used to love this place and I was there at l...         146  \n",
       "2      Worst service in China Town. Food good when it...          37  \n",
       "3      I came here with my family and we ordered a mi...          78  \n",
       "4      Decided to call in as it was a nice day and th...         124  \n",
       "...                                                  ...         ...  \n",
       "20725  We have been here 2 weeks ago for an afternoon...          73  \n",
       "20726  We really enjoyed the food and the restaurant....          20  \n",
       "20727  Having read the reviews on trip advisor, we vi...          30  \n",
       "20728  Had an amazing time at the chef counter experi...          30  \n",
       "20729  Just had a great evening here , lovely food an...          30  \n",
       "\n",
       "[20730 rows x 9 columns]"
      ]
     },
     "execution_count": 34,
     "metadata": {},
     "output_type": "execute_result"
    }
   ],
   "source": [
    "df_sample = pd.read_csv('df_sample.csv')\n",
    "df_sample"
   ]
  },
  {
   "cell_type": "code",
   "execution_count": 35,
   "id": "dee9bd9b",
   "metadata": {},
   "outputs": [],
   "source": [
    "columns = ['restaurant', 'review_date', 'total_score', 'stars', 'text', 'word_count']\n",
    "df = df_sample[columns]"
   ]
  },
  {
   "cell_type": "code",
   "execution_count": 36,
   "id": "fd83b9e4",
   "metadata": {},
   "outputs": [
    {
     "data": {
      "text/html": [
       "<div>\n",
       "<style scoped>\n",
       "    .dataframe tbody tr th:only-of-type {\n",
       "        vertical-align: middle;\n",
       "    }\n",
       "\n",
       "    .dataframe tbody tr th {\n",
       "        vertical-align: top;\n",
       "    }\n",
       "\n",
       "    .dataframe thead th {\n",
       "        text-align: right;\n",
       "    }\n",
       "</style>\n",
       "<table border=\"1\" class=\"dataframe\">\n",
       "  <thead>\n",
       "    <tr style=\"text-align: right;\">\n",
       "      <th></th>\n",
       "      <th>restaurant</th>\n",
       "      <th>review_date</th>\n",
       "      <th>total_score</th>\n",
       "      <th>stars</th>\n",
       "      <th>text</th>\n",
       "      <th>word_count</th>\n",
       "    </tr>\n",
       "  </thead>\n",
       "  <tbody>\n",
       "    <tr>\n",
       "      <th>0</th>\n",
       "      <td>The Victoria</td>\n",
       "      <td>2017-09-22</td>\n",
       "      <td>4.30</td>\n",
       "      <td>1</td>\n",
       "      <td>Never known a pub go downhill so fast.\\nI've b...</td>\n",
       "      <td>132</td>\n",
       "    </tr>\n",
       "    <tr>\n",
       "      <th>1</th>\n",
       "      <td>Thai Crystal</td>\n",
       "      <td>2018-04-27</td>\n",
       "      <td>3.74</td>\n",
       "      <td>1</td>\n",
       "      <td>I used to love this place and I was there at l...</td>\n",
       "      <td>146</td>\n",
       "    </tr>\n",
       "    <tr>\n",
       "      <th>2</th>\n",
       "      <td>The Golden Pagoda AKA The Lotus Garden</td>\n",
       "      <td>2015-08-27</td>\n",
       "      <td>2.45</td>\n",
       "      <td>1</td>\n",
       "      <td>Worst service in China Town. Food good when it...</td>\n",
       "      <td>37</td>\n",
       "    </tr>\n",
       "    <tr>\n",
       "      <th>3</th>\n",
       "      <td>No 197 Chiswick Fire Station</td>\n",
       "      <td>2018-01-02</td>\n",
       "      <td>3.42</td>\n",
       "      <td>1</td>\n",
       "      <td>I came here with my family and we ordered a mi...</td>\n",
       "      <td>78</td>\n",
       "    </tr>\n",
       "    <tr>\n",
       "      <th>4</th>\n",
       "      <td>The Lamb Tavern</td>\n",
       "      <td>2022-06-10</td>\n",
       "      <td>3.64</td>\n",
       "      <td>1</td>\n",
       "      <td>Decided to call in as it was a nice day and th...</td>\n",
       "      <td>124</td>\n",
       "    </tr>\n",
       "  </tbody>\n",
       "</table>\n",
       "</div>"
      ],
      "text/plain": [
       "                               restaurant review_date  total_score  stars  \\\n",
       "0                            The Victoria  2017-09-22         4.30      1   \n",
       "1                            Thai Crystal  2018-04-27         3.74      1   \n",
       "2  The Golden Pagoda AKA The Lotus Garden  2015-08-27         2.45      1   \n",
       "3            No 197 Chiswick Fire Station  2018-01-02         3.42      1   \n",
       "4                         The Lamb Tavern  2022-06-10         3.64      1   \n",
       "\n",
       "                                                text  word_count  \n",
       "0  Never known a pub go downhill so fast.\\nI've b...         132  \n",
       "1  I used to love this place and I was there at l...         146  \n",
       "2  Worst service in China Town. Food good when it...          37  \n",
       "3  I came here with my family and we ordered a mi...          78  \n",
       "4  Decided to call in as it was a nice day and th...         124  "
      ]
     },
     "execution_count": 36,
     "metadata": {},
     "output_type": "execute_result"
    }
   ],
   "source": [
    "df.head()"
   ]
  },
  {
   "cell_type": "code",
   "execution_count": 37,
   "id": "1409c364",
   "metadata": {},
   "outputs": [
    {
     "data": {
      "text/plain": [
       "568"
      ]
     },
     "execution_count": 37,
     "metadata": {},
     "output_type": "execute_result"
    }
   ],
   "source": [
    "len(df['restaurant'].unique())"
   ]
  },
  {
   "cell_type": "code",
   "execution_count": 38,
   "id": "537c2097",
   "metadata": {},
   "outputs": [
    {
     "data": {
      "text/plain": [
       "count    568.000000\n",
       "mean       3.792271\n",
       "std        0.771799\n",
       "min        1.000000\n",
       "25%        3.340000\n",
       "50%        3.920000\n",
       "75%        4.400000\n",
       "max        5.000000\n",
       "Name: total_score, dtype: float64"
      ]
     },
     "execution_count": 38,
     "metadata": {},
     "output_type": "execute_result"
    }
   ],
   "source": [
    "df_sample.groupby('restaurant')['total_score'].first().describe()"
   ]
  },
  {
   "cell_type": "code",
   "execution_count": 39,
   "id": "15eef56c",
   "metadata": {},
   "outputs": [
    {
     "data": {
      "text/plain": [
       "count    568.000000\n",
       "mean      36.496479\n",
       "std       37.419166\n",
       "min        1.000000\n",
       "25%        5.000000\n",
       "50%       27.000000\n",
       "75%       57.000000\n",
       "max      190.000000\n",
       "Name: text, dtype: float64"
      ]
     },
     "execution_count": 39,
     "metadata": {},
     "output_type": "execute_result"
    }
   ],
   "source": [
    "df.groupby('restaurant')['text'].count().describe()"
   ]
  },
  {
   "cell_type": "code",
   "execution_count": 40,
   "id": "878ac279",
   "metadata": {},
   "outputs": [
    {
     "data": {
      "text/plain": [
       "20448"
      ]
     },
     "execution_count": 40,
     "metadata": {},
     "output_type": "execute_result"
    }
   ],
   "source": [
    "36*568"
   ]
  },
  {
   "cell_type": "code",
   "execution_count": 41,
   "id": "b0c87b50",
   "metadata": {},
   "outputs": [
    {
     "name": "stderr",
     "output_type": "stream",
     "text": [
      "/var/folders/_x/zjy2t0_91j3fcrwwh4976v6c0000gn/T/ipykernel_82930/1304919764.py:1: SettingWithCopyWarning: \n",
      "A value is trying to be set on a copy of a slice from a DataFrame.\n",
      "Try using .loc[row_indexer,col_indexer] = value instead\n",
      "\n",
      "See the caveats in the documentation: https://pandas.pydata.org/pandas-docs/stable/user_guide/indexing.html#returning-a-view-versus-a-copy\n",
      "  df['review_date'] = pd.to_datetime(df['review_date'])\n"
     ]
    },
    {
     "data": {
      "text/plain": [
       "dtype('<M8[ns]')"
      ]
     },
     "execution_count": 41,
     "metadata": {},
     "output_type": "execute_result"
    }
   ],
   "source": [
    "df['review_date'] = pd.to_datetime(df['review_date'])\n",
    "df['review_date'].dtypes"
   ]
  },
  {
   "cell_type": "code",
   "execution_count": 42,
   "id": "8ce44cbb",
   "metadata": {},
   "outputs": [
    {
     "data": {
      "text/plain": [
       "Text(0.5, 1.0, 'Restaurant Reviews Timeline')"
      ]
     },
     "execution_count": 42,
     "metadata": {},
     "output_type": "execute_result"
    },
    {
     "data": {
      "image/png": "[encoded data removed]",
      "text/plain": [
       "<Figure size 1080x432 with 1 Axes>"
      ]
     },
     "metadata": {
      "needs_background": "light"
     },
     "output_type": "display_data"
    }
   ],
   "source": [
    "time_sample = df.groupby(pd.Grouper(key='review_date', freq='M', convention='start')).size()\n",
    "time_sample.plot(figsize=(15,6), linewidth = 3)\n",
    "#plt.xlim(pd.Timestamp('2010-01-01'),pd.Timestamp('2023-01-20'))\n",
    "plt.ylabel('Review Count', fontsize=11)\n",
    "plt.xlabel('Review Date', fontsize=11)\n",
    "#plt.xticks(fontsize=18)\n",
    "#plt.yticks(fontsize=18)\n",
    "plt.title('Restaurant Reviews Timeline', fontsize=15)\n",
    "#plt.grid(True)\n",
    "\n",
    "#We see a dip in 2020-2021, probably because of the pandemic. Most reviews from our sample comes from 2019 and 2022."
   ]
  },
  {
   "cell_type": "code",
   "execution_count": 43,
   "id": "d76c65c7",
   "metadata": {},
   "outputs": [
    {
     "data": {
      "text/plain": [
       "dtype('int64')"
      ]
     },
     "execution_count": 43,
     "metadata": {},
     "output_type": "execute_result"
    }
   ],
   "source": [
    "df['stars'].dtype"
   ]
  },
  {
   "cell_type": "code",
   "execution_count": 44,
   "id": "6909d6ea",
   "metadata": {},
   "outputs": [
    {
     "data": {
      "image/png": "[encoded data removed]",
      "text/plain": [
       "<Figure size 1080x432 with 1 Axes>"
      ]
     },
     "metadata": {
      "needs_background": "light"
     },
     "output_type": "display_data"
    }
   ],
   "source": [
    "fig, ax = plt.subplots(figsize=(15, 6))\n",
    "sns.histplot(df['word_count'])\n",
    "ax.set_xlim(1, 550)\n",
    "plt.title('Distribution of the Word Count', fontsize=15)\n",
    "plt.xlabel(\"Word Count\", fontsize=11)\n",
    "plt.ylabel(\"Count\", fontsize=11)\n",
    "plt.show()"
   ]
  },
  {
   "cell_type": "code",
   "execution_count": 45,
   "id": "4638a2d8",
   "metadata": {},
   "outputs": [
    {
     "data": {
      "image/png": "[encoded data removed]",
      "text/plain": [
       "<Figure size 1080x432 with 1 Axes>"
      ]
     },
     "metadata": {
      "needs_background": "light"
     },
     "output_type": "display_data"
    }
   ],
   "source": [
    "fig, ax = plt.subplots(figsize=(15, 6))\n",
    "sns.histplot(data=df, x='word_count', hue='stars', palette='Spectral')\n",
    "ax.set_xlim(1, 550)\n",
    "plt.title('Distribution of the Word Count per Star', fontsize=15)\n",
    "plt.xlabel(\"Word Count\", fontsize=11)\n",
    "plt.ylabel(\"Count\", fontsize=11)\n",
    "plt.show()"
   ]
  },
  {
   "cell_type": "code",
   "execution_count": 46,
   "id": "ef9f9e6e",
   "metadata": {},
   "outputs": [
    {
     "data": {
      "text/plain": [
       "19"
      ]
     },
     "execution_count": 46,
     "metadata": {},
     "output_type": "execute_result"
    }
   ],
   "source": [
    "27741+46303-74025"
   ]
  },
  {
   "cell_type": "code",
   "execution_count": 47,
   "id": "948c983e",
   "metadata": {},
   "outputs": [
    {
     "data": {
      "text/html": [
       "<div>\n",
       "<style scoped>\n",
       "    .dataframe tbody tr th:only-of-type {\n",
       "        vertical-align: middle;\n",
       "    }\n",
       "\n",
       "    .dataframe tbody tr th {\n",
       "        vertical-align: top;\n",
       "    }\n",
       "\n",
       "    .dataframe thead th {\n",
       "        text-align: right;\n",
       "    }\n",
       "</style>\n",
       "<table border=\"1\" class=\"dataframe\">\n",
       "  <thead>\n",
       "    <tr style=\"text-align: right;\">\n",
       "      <th></th>\n",
       "      <th>count</th>\n",
       "      <th>mean</th>\n",
       "      <th>std</th>\n",
       "      <th>min</th>\n",
       "      <th>25%</th>\n",
       "      <th>50%</th>\n",
       "      <th>75%</th>\n",
       "      <th>max</th>\n",
       "    </tr>\n",
       "    <tr>\n",
       "      <th>stars</th>\n",
       "      <th></th>\n",
       "      <th></th>\n",
       "      <th></th>\n",
       "      <th></th>\n",
       "      <th></th>\n",
       "      <th></th>\n",
       "      <th></th>\n",
       "      <th></th>\n",
       "    </tr>\n",
       "  </thead>\n",
       "  <tbody>\n",
       "    <tr>\n",
       "      <th>1</th>\n",
       "      <td>4146.0</td>\n",
       "      <td>80.516884</td>\n",
       "      <td>76.898961</td>\n",
       "      <td>1.0</td>\n",
       "      <td>31.0</td>\n",
       "      <td>57.0</td>\n",
       "      <td>105.0</td>\n",
       "      <td>757.0</td>\n",
       "    </tr>\n",
       "    <tr>\n",
       "      <th>2</th>\n",
       "      <td>4146.0</td>\n",
       "      <td>79.731066</td>\n",
       "      <td>71.762423</td>\n",
       "      <td>1.0</td>\n",
       "      <td>33.0</td>\n",
       "      <td>58.0</td>\n",
       "      <td>104.0</td>\n",
       "      <td>986.0</td>\n",
       "    </tr>\n",
       "    <tr>\n",
       "      <th>3</th>\n",
       "      <td>4146.0</td>\n",
       "      <td>67.967921</td>\n",
       "      <td>60.609611</td>\n",
       "      <td>1.0</td>\n",
       "      <td>29.0</td>\n",
       "      <td>50.0</td>\n",
       "      <td>87.0</td>\n",
       "      <td>696.0</td>\n",
       "    </tr>\n",
       "    <tr>\n",
       "      <th>4</th>\n",
       "      <td>4146.0</td>\n",
       "      <td>53.169320</td>\n",
       "      <td>45.224728</td>\n",
       "      <td>1.0</td>\n",
       "      <td>26.0</td>\n",
       "      <td>41.0</td>\n",
       "      <td>66.0</td>\n",
       "      <td>713.0</td>\n",
       "    </tr>\n",
       "    <tr>\n",
       "      <th>5</th>\n",
       "      <td>4146.0</td>\n",
       "      <td>45.514231</td>\n",
       "      <td>39.526869</td>\n",
       "      <td>1.0</td>\n",
       "      <td>22.0</td>\n",
       "      <td>35.0</td>\n",
       "      <td>57.0</td>\n",
       "      <td>735.0</td>\n",
       "    </tr>\n",
       "  </tbody>\n",
       "</table>\n",
       "</div>"
      ],
      "text/plain": [
       "        count       mean        std  min   25%   50%    75%    max\n",
       "stars                                                             \n",
       "1      4146.0  80.516884  76.898961  1.0  31.0  57.0  105.0  757.0\n",
       "2      4146.0  79.731066  71.762423  1.0  33.0  58.0  104.0  986.0\n",
       "3      4146.0  67.967921  60.609611  1.0  29.0  50.0   87.0  696.0\n",
       "4      4146.0  53.169320  45.224728  1.0  26.0  41.0   66.0  713.0\n",
       "5      4146.0  45.514231  39.526869  1.0  22.0  35.0   57.0  735.0"
      ]
     },
     "execution_count": 47,
     "metadata": {},
     "output_type": "execute_result"
    }
   ],
   "source": [
    "df.groupby('stars')['word_count'].describe()"
   ]
  },
  {
   "cell_type": "markdown",
   "id": "85ed036d",
   "metadata": {},
   "source": [
    "# VADER Analyse\n",
    " \n",
    "In this part we use the NLTK VADER package to get the sentiment scores and add them in the dataframe "
   ]
  },
  {
   "cell_type": "code",
   "execution_count": 48,
   "id": "63c43efe",
   "metadata": {},
   "outputs": [],
   "source": [
    "from nltk.sentiment import SentimentIntensityAnalyzer\n",
    "sia = SentimentIntensityAnalyzer()\n",
    "\n",
    "values_comp=[]\n",
    "values_pos=[]\n",
    "values_neg=[]\n",
    "for i in range(len(df_sample)):\n",
    "    value_comp= sia.polarity_scores(df_sample.iloc[i][\"text\"])[\"compound\"]\n",
    "    value_pos=sia.polarity_scores(df_sample.iloc[i][\"text\"])[\"pos\"]\n",
    "    value_neg=sia.polarity_scores(df_sample.iloc[i][\"text\"])[\"neg\"]\n",
    "    values_comp.append(value_comp)\n",
    "    values_pos.append(value_pos)\n",
    "    values_neg.append(value_neg)\n",
    "    \n",
    "df_sample[\"VADER_score\"]=values_comp\n",
    "df_sample[\"VADER_score_pos\"]=values_pos\n",
    "df_sample[\"VADER_score_neg\"]=values_neg"
   ]
  },
  {
   "cell_type": "code",
   "execution_count": 53,
   "id": "6a5d93df",
   "metadata": {},
   "outputs": [
    {
     "data": {
      "image/png": "[encoded data removed]",
      "text/plain": [
       "<Figure size 1296x720 with 1 Axes>"
      ]
     },
     "metadata": {},
     "output_type": "display_data"
    }
   ],
   "source": [
    "df_sample[\"stars\"]=df_sample['stars'].astype('str') #make the stars string format to get better colors pallet \n",
    "sns.set_style(\"whitegrid\")\n",
    "sns.color_palette(\"hls\", 8)\n",
    "fig, ax = plt.subplots(figsize=(18, 10))\n",
    "sns.histplot(data=df_sample[df_sample[\"VADER_score_pos\"]!=0], x=\"VADER_score\", hue=\"stars\", multiple=\"stack\")\n",
    "ax.set_xlim(-1, 1)\n",
    "plt.xlabel(\"VADER score\")\n",
    "plt.show()"
   ]
  },
  {
   "cell_type": "code",
   "execution_count": 54,
   "id": "b6e805cc",
   "metadata": {},
   "outputs": [
    {
     "data": {
      "text/plain": [
       "(array([0, 1, 2, 3, 4]),\n",
       " [Text(0, 0, '1'),\n",
       "  Text(0, 1, '2'),\n",
       "  Text(0, 2, '3'),\n",
       "  Text(0, 3, '4'),\n",
       "  Text(0, 4, '5')])"
      ]
     },
     "execution_count": 54,
     "metadata": {},
     "output_type": "execute_result"
    },
    {
     "data": {
      "image/png": "[encoded data removed]",
      "text/plain": [
       "<Figure size 1008x576 with 1 Axes>"
      ]
     },
     "metadata": {},
     "output_type": "display_data"
    }
   ],
   "source": [
    "#creating a bloxplot to get more inside on the distribution of VADER compound scores \n",
    "fig, ax= plt.subplots(figsize=(14,8))\n",
    "sns.boxplot(data=df_sample, x=\"VADER_score\", y=\"stars\", fliersize=0.1, palette=\"Spectral\")\n",
    "plt.xlabel(\"VADER Score\", fontsize=18)\n",
    "plt.ylabel(\"Stars\", fontsize=18)\n",
    "plt.xticks(fontsize=18)\n",
    "plt.yticks(fontsize=18)"
   ]
  },
  {
   "cell_type": "code",
   "execution_count": null,
   "id": "d437f434",
   "metadata": {},
   "outputs": [],
   "source": []
  },
  {
   "cell_type": "code",
   "execution_count": null,
   "id": "b0075fd2",
   "metadata": {},
   "outputs": [],
   "source": []
  }
 ],
 "metadata": {
  "kernelspec": {
   "display_name": "Python 3 (ipykernel)",
   "language": "python",
   "name": "python3"
  },
  "language_info": {
   "codemirror_mode": {
    "name": "ipython",
    "version": 3
   },
   "file_extension": ".py",
   "mimetype": "text/x-python",
   "name": "python",
   "nbconvert_exporter": "python",
   "pygments_lexer": "ipython3",
   "version": "3.9.12"
  }
 },
 "nbformat": 4,
 "nbformat_minor": 5
}
